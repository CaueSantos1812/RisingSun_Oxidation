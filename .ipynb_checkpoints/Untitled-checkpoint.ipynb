{
 "cells": [
  {
   "cell_type": "code",
   "execution_count": 1,
   "id": "0cb8fa86-f5f3-4189-bde6-c279ef274402",
   "metadata": {},
   "outputs": [
    {
     "ename": "NameError",
     "evalue": "name 'glob' is not defined",
     "output_type": "error",
     "traceback": [
      "\u001b[1;31m---------------------------------------------------------------------------\u001b[0m",
      "\u001b[1;31mNameError\u001b[0m                                 Traceback (most recent call last)",
      "Cell \u001b[1;32mIn [1], line 2\u001b[0m\n\u001b[0;32m      1\u001b[0m pasta \u001b[38;5;241m=\u001b[39m \u001b[38;5;124m\"\u001b[39m\u001b[38;5;124mArqv/xdi_Mn\u001b[39m\u001b[38;5;124m\"\u001b[39m \u001b[38;5;66;03m# Define a pasta que será utilizada para encontrar os .xdis\u001b[39;00m\n\u001b[1;32m----> 2\u001b[0m arquivos \u001b[38;5;241m=\u001b[39m \u001b[43mglob\u001b[49m\u001b[38;5;241m.\u001b[39mglob(\u001b[38;5;124mf\u001b[39m\u001b[38;5;124m\"\u001b[39m\u001b[38;5;132;01m{\u001b[39;00mpasta\u001b[38;5;132;01m}\u001b[39;00m\u001b[38;5;124m/*.xdi\u001b[39m\u001b[38;5;124m\"\u001b[39m) \u001b[38;5;66;03m#Utiliza o glob para pegar os arquivos\u001b[39;00m\n\u001b[0;32m      5\u001b[0m elementos_permitidos \u001b[38;5;241m=\u001b[39m \u001b[38;5;124m\"\u001b[39m\u001b[38;5;124mMn\u001b[39m\u001b[38;5;124m\"\u001b[39m\n\u001b[0;32m      6\u001b[0m \u001b[38;5;66;03m# é possivel rodar para vários: elementos_permitidos = ['Ti', 'V', 'Cr', 'Mn', Fe, 'Co', 'Ni', 'Cu']\u001b[39;00m\n",
      "\u001b[1;31mNameError\u001b[0m: name 'glob' is not defined"
     ]
    }
   ],
   "source": [
    "pasta = \"Arqv/xdi_Mn\" # Define a pasta que será utilizada para encontrar os .xdis\n",
    "arquivos = glob.glob(f\"{pasta}/*.xdi\") #Utiliza o glob para pegar os arquivos\n",
    "\n",
    "\n",
    "elementos_permitidos = \"Mn\"\n",
    "# é possivel rodar para vários: elementos_permitidos = ['Ti', 'V', 'Cr', 'Mn', Fe, 'Co', 'Ni', 'Cu']\n",
    "borda = \"K\"\n",
    "\n",
    "\n",
    "# Loop para processar cada arquivo .xdi\n",
    "for filepath in arquivos:\n",
    "    with open(filepath, 'r') as file: # Abre o arquivo para rodar o find_element_edge\n",
    "        symbol, edge = find_element_edge(file)\n",
    "        if (symbol == elementos_permitidos) and (edge == borda):\n",
    "            \n",
    "            e, mu = norm_e_mu(filepath) # Retira os valores de energia e mu de cada xdi\n",
    "            \n",
    "            integ = integrate_energy_mu(e, mu, 6539.0) # Realiza a integração, o terceiro input da função é específico para cada elemento\n",
    "            del_E = delta_energy(integ[0], integ[1])\n",
    "            print(f'{filepath} \\n  ΔE = {del_E} eV')\n",
    "\n",
    "        \n",
    "        else:\n",
    "            #não rodar nada no momento se não for elemento 3D ou borda K\n",
    "            pass"
   ]
  }
 ],
 "metadata": {
  "kernelspec": {
   "display_name": "ilumpy",
   "language": "python",
   "name": "ilumpy"
  },
  "language_info": {
   "codemirror_mode": {
    "name": "ipython",
    "version": 3
   },
   "file_extension": ".py",
   "mimetype": "text/x-python",
   "name": "python",
   "nbconvert_exporter": "python",
   "pygments_lexer": "ipython3",
   "version": "3.10.8"
  }
 },
 "nbformat": 4,
 "nbformat_minor": 5
}
